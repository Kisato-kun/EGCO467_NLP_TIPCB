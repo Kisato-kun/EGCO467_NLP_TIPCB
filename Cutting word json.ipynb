{
 "cells": [
  {
   "cell_type": "code",
   "execution_count": 1,
   "id": "caroline-excerpt",
   "metadata": {},
   "outputs": [],
   "source": [
    "import pandas as pd\n",
    "import json\n",
    "from tqdm import tqdm"
   ]
  },
  {
   "cell_type": "code",
   "execution_count": 2,
   "id": "relative-coalition",
   "metadata": {},
   "outputs": [],
   "source": [
    "df=pd.read_json('caption_all_thai.json')\n",
    "df2=df.copy()"
   ]
  },
  {
   "cell_type": "code",
   "execution_count": 3,
   "id": "nutritional-monitoring",
   "metadata": {},
   "outputs": [],
   "source": [
    "import pythainlp\n",
    "from pythainlp import sent_tokenize, word_tokenize"
   ]
  },
  {
   "cell_type": "code",
   "execution_count": 4,
   "id": "recorded-asian",
   "metadata": {},
   "outputs": [],
   "source": [
    "from pythainlp.tag import pos_tag"
   ]
  },
  {
   "cell_type": "code",
   "execution_count": null,
   "id": "hidden-manhattan",
   "metadata": {
    "scrolled": true
   },
   "outputs": [
    {
     "name": "stderr",
     "output_type": "stream",
     "text": [
      "\r",
      "  0%|                                                                                        | 0/40206 [00:00<?, ?it/s]"
     ]
    },
    {
     "name": "stdout",
     "output_type": "stream",
     "text": [
      "INFO:tensorflow:Enabling eager execution\n",
      "INFO:tensorflow:Enabling v2 tensorshape\n",
      "INFO:tensorflow:Enabling resource variables\n",
      "INFO:tensorflow:Enabling tensor equality\n",
      "INFO:tensorflow:Enabling control flow v2\n"
     ]
    },
    {
     "name": "stderr",
     "output_type": "stream",
     "text": [
      "<ipython-input-5-59343cbfaed1>:10: SettingWithCopyWarning: \n",
      "A value is trying to be set on a copy of a slice from a DataFrame\n",
      "\n",
      "See the caveats in the documentation: https://pandas.pydata.org/pandas-docs/stable/user_guide/indexing.html#returning-a-view-versus-a-copy\n",
      "  df2['captions'][i]=cut_new_word\n",
      "  1%|█                                                                           | 542/40206 [03:09<3:58:24,  2.77it/s]"
     ]
    }
   ],
   "source": [
    "for i in tqdm(range(len(df['captions']))):\n",
    "    cut_new_word=[]\n",
    "    for j in range(len(df['captions'][i])):\n",
    "        new_word=''\n",
    "        POS=pos_tag(word_tokenize(df['captions'][i][j], keep_whitespace=False,engine=\"deepcut\"),engine='tltk', corpus='pud')\n",
    "        for k in range (len(POS)):\n",
    "            if POS[k][1] != 'PUNCT' and POS[k][1] != 'ADV' and POS[k][1] != 'AUX' and POS[k][1] != 'CCONJ' and POS[k][1] != 'SCONJ' :\n",
    "                new_word+=POS[k][0]\n",
    "        cut_new_word.append(new_word)\n",
    "    df2['captions'][i]=cut_new_word"
   ]
  },
  {
   "cell_type": "code",
   "execution_count": null,
   "id": "meaning-consent",
   "metadata": {},
   "outputs": [],
   "source": [
    "df2.to_json('caption_all_thai2.json', orient = 'records', compression = 'infer', index = 'true')"
   ]
  },
  {
   "cell_type": "code",
   "execution_count": null,
   "id": "local-attitude",
   "metadata": {},
   "outputs": [],
   "source": [
    "df2"
   ]
  },
  {
   "cell_type": "code",
   "execution_count": null,
   "id": "negative-decimal",
   "metadata": {},
   "outputs": [],
   "source": []
  }
 ],
 "metadata": {
  "kernelspec": {
   "display_name": "Python 3",
   "language": "python",
   "name": "python3"
  },
  "language_info": {
   "codemirror_mode": {
    "name": "ipython",
    "version": 3
   },
   "file_extension": ".py",
   "mimetype": "text/x-python",
   "name": "python",
   "nbconvert_exporter": "python",
   "pygments_lexer": "ipython3",
   "version": "3.9.2"
  }
 },
 "nbformat": 4,
 "nbformat_minor": 5
}
